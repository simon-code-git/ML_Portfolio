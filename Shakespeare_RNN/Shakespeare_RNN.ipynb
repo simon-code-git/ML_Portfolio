{
 "cells": [
  {
   "cell_type": "code",
   "execution_count": 19,
   "metadata": {},
   "outputs": [],
   "source": [
    "import numpy as np\n",
    "import matplotlib.pyplot as plt\n",
    "import torch \n",
    "import torch.nn as nn\n",
    "import torch.utils.data as data\n",
    "from tqdm.notebook import tqdm\n",
    "from prettytable import PrettyTable\n",
    "import time"
   ]
  },
  {
   "cell_type": "code",
   "execution_count": 20,
   "metadata": {},
   "outputs": [],
   "source": [
    "# Hyperparameter variables. \n",
    "num_epochs = 25\n",
    "batch_size = 10\n",
    "learning_rate = 0.001\n",
    "sequence_length = 25\n",
    "save_name = input()"
   ]
  },
  {
   "cell_type": "code",
   "execution_count": 21,
   "metadata": {},
   "outputs": [
    {
     "name": "stdout",
     "output_type": "stream",
     "text": [
      "CUDA is available on NVIDIA GeForce RTX 4060 Laptop GPU. \n"
     ]
    }
   ],
   "source": [
    "# Check if CUDA is available. \n",
    "# Set device to CUDA unless not available\n",
    "if torch.cuda.is_available():\n",
    "    print(f'CUDA is available on {torch.cuda.get_device_name(0)}. ')\n",
    "    device = 'cuda'\n",
    "else:\n",
    "    print('CUDA is not available. ')\n",
    "    device = 'cpu'"
   ]
  },
  {
   "cell_type": "code",
   "execution_count": 22,
   "metadata": {},
   "outputs": [
    {
     "name": "stdout",
     "output_type": "stream",
     "text": [
      "Vocabulary size: 37.\n",
      "Character count: 1106260. \n",
      "Word count: 202651. \n"
     ]
    }
   ],
   "source": [
    "# Open text file containing Shakespeare's sonnets. \n",
    "# Clean text by removing line breaks, and making all letters lowercase. \n",
    "# Create vocavulary from text and define tokenization mappings. \n",
    "path_to_file = 'Plays.txt'\n",
    "with open(path_to_file, 'r') as file: \n",
    "    text = file.read()\n",
    "text = text.replace('\\n', ' ').replace('\\r', ' ').replace('\"', '').replace('-','').replace('  ', ' ').replace('’', \"'\")\n",
    "text = text.lower()\n",
    "\n",
    "char_count = len(text)\n",
    "word_count = len(text.split())\n",
    "vocabulary = sorted(set(text))\n",
    "\n",
    "char_to_idx = dict((char, idx) for idx, char in enumerate(vocabulary))\n",
    "idx_to_char = dict((idx, char) for char, idx in char_to_idx.items())\n",
    "\n",
    "print(f'Vocabulary size: {len(vocabulary)}.')\n",
    "print(f'Character count: {char_count}. ')\n",
    "print(f'Word count: {word_count}. ')\n",
    "\n",
    "with open(f'Augment_Cleaned_{path_to_file}', 'w') as file: \n",
    "    file.write(text)"
   ]
  },
  {
   "cell_type": "code",
   "execution_count": 23,
   "metadata": {},
   "outputs": [
    {
     "data": {
      "application/vnd.jupyter.widget-view+json": {
       "model_id": "f660f46a7b9e4fb1a2bb27a7ad42b8b7",
       "version_major": 2,
       "version_minor": 0
      },
      "text/plain": [
       "Tokenizing text:   0%|          | 0/1106235 [00:00<?, ?it/s]"
      ]
     },
     "metadata": {},
     "output_type": "display_data"
    },
    {
     "name": "stdout",
     "output_type": "stream",
     "text": [
      "Number of training sequences: 1106235.\n"
     ]
    }
   ],
   "source": [
    "# Split text into sequences, where sequence_in is characters n to n+100, and sequence_out is n+101. \n",
    "# Tokenize text using char_to_idx mapping. \n",
    "X_data = np.zeros((char_count - sequence_length, sequence_length), dtype=int)\n",
    "y_data = np.zeros((char_count - sequence_length, 1), dtype=int)\n",
    "for i in tqdm(range(0, char_count - sequence_length), desc='Tokenizing text'):\n",
    "    X_data[i] = [char_to_idx[char] for char in text[i:i + sequence_length]]\n",
    "    y_data[i] = char_to_idx[text[i + sequence_length]]\n",
    "print(f'Number of training sequences: {X_data.shape[0]}.')"
   ]
  },
  {
   "cell_type": "code",
   "execution_count": 24,
   "metadata": {},
   "outputs": [],
   "source": [
    "# Embed imput data using one-hot encoding. \n",
    "# Convert X_data and y_data to tensors X and y.\n",
    "X = torch.tensor(X_data, dtype=torch.long).reshape(len(X_data), sequence_length)\n",
    "y = torch.tensor(y_data, dtype=torch.long).squeeze()"
   ]
  },
  {
   "cell_type": "code",
   "execution_count": 25,
   "metadata": {},
   "outputs": [],
   "source": [
    "# Construct recurrent neural network model. \n",
    "# Use LSTM layer followed by dropout and single fully connected layer. \n",
    "class RNN(nn.Module):\n",
    "    def __init__(self):\n",
    "        super().__init__()\n",
    "        self.embedding = nn.Embedding(len(vocabulary), 10)\n",
    "        self.lstm = nn.LSTM(input_size=10, hidden_size=500, num_layers=2, batch_first=True, dropout=0.3)\n",
    "        self.dropout = nn.Dropout(0.3)\n",
    "        self.linear = nn.Linear(500, len(vocabulary))\n",
    "    def forward(self, x):\n",
    "        x = self.embedding(x)\n",
    "        x, _ = self.lstm(x)\n",
    "        x = x[:, -1, :]\n",
    "        x = self.linear(self.dropout(x))\n",
    "        return x"
   ]
  },
  {
   "cell_type": "code",
   "execution_count": 26,
   "metadata": {},
   "outputs": [],
   "source": [
    "# Define model, optimizer, loss function, and dataloader. \n",
    "model = RNN().to(device)\n",
    "optimizer = torch.optim.Adam(model.parameters(), lr=learning_rate)\n",
    "loss_fn = nn.CrossEntropyLoss()\n",
    "loader = data.DataLoader(data.TensorDataset(X, y), shuffle=True, batch_size=batch_size)"
   ]
  },
  {
   "cell_type": "code",
   "execution_count": null,
   "metadata": {},
   "outputs": [],
   "source": [
    "# Train and validate model sequentially. \n",
    "# Send data to correct device when unpacking dataloader. \n",
    "# Print total loss at every epoch. \n",
    "# Save trained model. \n",
    "losses = []\n",
    "for epoch in tqdm(range(num_epochs), desc='RNN training and validation'):\n",
    "    model.train()\n",
    "    for X_batch, y_batch in loader:\n",
    "        X_batch, y_batch = X_batch.to(device), y_batch.to(device)\n",
    "        y_pred = model(X_batch)\n",
    "        loss = loss_fn(y_pred, y_batch)\n",
    "        optimizer.zero_grad()\n",
    "        loss.backward()\n",
    "        optimizer.step()\n",
    "    model.eval()\n",
    "    loss = 0\n",
    "    with torch.no_grad():\n",
    "        for X_batch, y_batch in loader:\n",
    "            X_batch, y_batch = X_batch.to(device), y_batch.to(device)\n",
    "            y_pred = model(X_batch)\n",
    "            loss += loss_fn(y_pred, y_batch)\n",
    "        print(f'Epoch {epoch+1:02d}  Loss {loss:.2f}')\n",
    "    losses.append(loss)\n",
    "torch.save(model.state_dict(), f'{save_name}_State_Dict.pth')\n",
    "torch.save(model, f'{save_name}_Full_Model.pth')"
   ]
  },
  {
   "cell_type": "code",
   "execution_count": null,
   "metadata": {},
   "outputs": [
    {
     "data": {
      "image/png": "[encoded data removed]",
      "text/plain": [
       "<Figure size 800x400 with 2 Axes>"
      ]
     },
     "metadata": {},
     "output_type": "display_data"
    }
   ],
   "source": [
    "# Generate Loss-Epoch plot and LogLoss-Epoch plot. \n",
    "float_losses = [loss.item() for loss in losses]\n",
    "plt.figure(figsize=(8, 4))\n",
    "plt.suptitle('Validation Losses vs Epochs')\n",
    "\n",
    "plt.subplot(1, 2, 1)\n",
    "plt.plot(float_losses, label='Loss')\n",
    "plt.xlabel('Epochs')\n",
    "plt.ylabel('Cross Entropy Loss')\n",
    "plt.legend()\n",
    "\n",
    "plt.subplot(1, 2, 2)\n",
    "plt.plot(np.log(float_losses), label='Log Loss', color='red')\n",
    "plt.xlabel('Epochs')\n",
    "plt.ylabel('Log Cross Entropy Loss')\n",
    "plt.legend()\n",
    "\n",
    "plt.tight_layout()\n",
    "plt.show()"
   ]
  },
  {
   "cell_type": "code",
   "execution_count": null,
   "metadata": {},
   "outputs": [
    {
     "name": "stdout",
     "output_type": "stream",
     "text": [
      "+-------------------+------------+\n",
      "|      Modules      | Parameters |\n",
      "+-------------------+------------+\n",
      "|  embedding.weight |    320     |\n",
      "| lstm.weight_ih_l0 |   20000    |\n",
      "| lstm.weight_hh_l0 |  1000000   |\n",
      "|  lstm.bias_ih_l0  |    2000    |\n",
      "|  lstm.bias_hh_l0  |    2000    |\n",
      "| lstm.weight_ih_l1 |  1000000   |\n",
      "| lstm.weight_hh_l1 |  1000000   |\n",
      "|  lstm.bias_ih_l1  |    2000    |\n",
      "|  lstm.bias_hh_l1  |    2000    |\n",
      "|   linear.weight   |   16000    |\n",
      "|    linear.bias    |     32     |\n",
      "+-------------------+------------+\n",
      "Total Trainable Params: 3044352\n"
     ]
    }
   ],
   "source": [
    "# Generate model summary, showing all layers and parameters. \n",
    "table = PrettyTable([\"Modules\", \"Parameters\"])\n",
    "total_params = 0\n",
    "for name, parameter in model.named_parameters():\n",
    "    if not parameter.requires_grad:\n",
    "        continue\n",
    "    params = parameter.numel()\n",
    "    table.add_row([name, params])\n",
    "    total_params += params\n",
    "print(table)\n",
    "print(f\"Total Trainable Parameters: {total_params}\")"
   ]
  },
  {
   "cell_type": "code",
   "execution_count": null,
   "metadata": {},
   "outputs": [],
   "source": [
    "# Generate text using trained model. \n",
    "# After each single-character prediction, step the prompt forward by one character. \n",
    "# Display prompt, response, and details about model. \n",
    "prompt = input().lower()\n",
    "tokenized_prompt = [char_to_idx[c] for c in prompt]\n",
    "print(f'Prompt: {prompt}')\n",
    "\n",
    "with torch.no_grad(): \n",
    "    model.eval()    \n",
    "    print(f'\\nResponse: ', end='')\n",
    "    for i in range(150):\n",
    "        time.sleep(np.random.uniform(0.01, 0.05))\n",
    "        x = torch.tensor(tokenized_prompt, dtype=torch.long).reshape(1, len(tokenized_prompt)).to(device)\n",
    "        prediction = model(x)\n",
    "        index = int(prediction.argmax())\n",
    "        char = idx_to_char[index]\n",
    "        tokenized_prompt.append(index)\n",
    "        tokenized_prompt = tokenized_prompt[1:]\n",
    "        print(char, end='')\n",
    "\n",
    "print(f'\\n\\nBased on a learned vocabulary of {len(vocabulary)} characters. \\nGenerated by a {total_params}-parameter RNN model. \\nTrained on {word_count}-word corpus \"{path_to_file}\".')"
   ]
  }
 ],
 "metadata": {
  "kernelspec": {
   "display_name": "base",
   "language": "python",
   "name": "python3"
  },
  "language_info": {
   "codemirror_mode": {
    "name": "ipython",
    "version": 3
   },
   "file_extension": ".py",
   "mimetype": "text/x-python",
   "name": "python",
   "nbconvert_exporter": "python",
   "pygments_lexer": "ipython3",
   "version": "3.12.9"
  }
 },
 "nbformat": 4,
 "nbformat_minor": 2
}
